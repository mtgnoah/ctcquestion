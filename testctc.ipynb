{
 "cells": [
  {
   "cell_type": "code",
   "execution_count": null,
   "metadata": {},
   "outputs": [],
   "source": [
    "from ctc.protocols import uniswap_v2_utils\n",
    "\n",
    "pool = '0x94b0a3d511b6ecdb17ebf877278ab030acb0a878'\n"
   ]
  },
  {
   "cell_type": "code",
   "execution_count": null,
   "metadata": {},
   "outputs": [],
   "source": [
    "\n",
    "import asyncio\n",
    "import math, os\n",
    "import tooltime\n",
    "from ctc import evm\n",
    "from ctc import rpc\n",
    "import toolstr\n",
    "from ctc.protocols import uniswap_v2_utils\n",
    "import functools\n",
    "#import rich.console\n",
    "import numpy as np\n",
    "import plotly.graph_objects as go\n",
    "\n",
    "import pandas as pd\n",
    "from datetime import datetime\n",
    "\n",
    "\n",
    "async def async_chart_command(pool):\n",
    "    ts = pd.Timestamp('2022-01-02T12')\n",
    "    \n",
    "    x = pd.Timestamp.utcnow()\n",
    "    ts_delta = x - ts\n",
    "    ts_utc = pd.Timestamp.fromtimestamp(ts_delta.total_seconds(), 'UTC')\n",
    "    ts_new = tooltime.create_timestamp(ts_utc)\n",
    "\n",
    "    time_yesterday = ts - pd.Timedelta(days=1)\n",
    "    ts_y_utc = pd.Timestamp.fromtimestamp(time_yesterday, 'UTC')\n",
    "    ts_y_delta = x - ts_y_utc \n",
    "    ts_y_new = tooltime.create_timestamp(ts_y_delta.total_seconds())\n",
    "\n",
    "    start_block = await evm.async_get_block_of_timestamp(ts_y_new) \n",
    "    end_block = await evm.async_get_block_of_timestamp(ts_new)\n",
    "\n",
    "    # get data\n",
    "    swaps = await uniswap_v2_utils.async_get_pool_swaps(\n",
    "        pool,\n",
    "        start_block=start_block,\n",
    "        end_block=end_block,\n",
    "    )\n",
    "    \n",
    "    swaps['volumes'] = swaps['x_bought'] + swaps['x_sold']\n",
    "    print(swaps[['volumes', 'x_bought', 'x_sold']].head())\n",
    "   \n",
    "\n",
    "await async_chart_command(pool)\n"
   ]
  }
 ],
 "metadata": {
  "language_info": {
   "name": "python"
  },
  "orig_nbformat": 4
 },
 "nbformat": 4,
 "nbformat_minor": 2
}
