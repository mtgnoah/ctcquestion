{
 "cells": [
  {
   "cell_type": "code",
   "execution_count": null,
   "metadata": {},
   "outputs": [],
   "source": [
    "from ctc.protocols import uniswap_v2_utils\n",
    "\n",
    "pool = '0x94b0a3d511b6ecdb17ebf877278ab030acb0a878'\n"
   ]
  },
  {
   "cell_type": "code",
   "execution_count": null,
   "metadata": {},
   "outputs": [],
   "source": [
    "import asyncio\n",
    "import math, os\n",
    "import tooltime\n",
    "from ctc import evm\n",
    "from ctc import rpc\n",
    "import toolstr\n",
    "from ctc.protocols import uniswap_v2_utils\n",
    "import functools\n",
    "\n",
    "import numpy as np\n",
    "import plotly.graph_objects as go\n",
    "\n",
    "import pandas as pd\n",
    "from datetime import datetime\n",
    "from datetime import timezone\n",
    "import time\n",
    "\n",
    "async def async_chart_command(pool):\n",
    "    ts = pd.Timestamp('2022-01-02T12')\n",
    "    timestamp_og = time.mktime(ts.timetuple())\n",
    "    dt = datetime.fromtimestamp(timestamp_og)\n",
    "    timestamp = dt.replace(tzinfo=timezone.utc).timestamp()\n",
    "    ts_tool = tooltime.create_timestamp(timestamp)\n",
    "    \n",
    "    time_yesterday = ts - pd.Timedelta(hours=1)\n",
    "    timestamp2_og = time.mktime(time_yesterday.timetuple())\n",
    "    dt_2 = datetime.fromtimestamp(timestamp2_og)\n",
    "    timestamp2 = dt_2.replace(tzinfo=timezone.utc).timestamp()\n",
    "    print(timestamp2)\n",
    "    ts_tool2 = tooltime.create_timestamp(timestamp2)\n",
    "    \n",
    "    start_block = await evm.async_get_block_of_timestamp(ts_tool2) \n",
    "    end_block = await evm.async_get_block_of_timestamp(ts_tool)\n",
    "    \n",
    "    # get data\n",
    "    swaps = await uniswap_v2_utils.async_get_pool_swaps(\n",
    "        pool,\n",
    "        start_block=start_block,\n",
    "        end_block=end_block,\n",
    "    )\n",
    "    \n",
    "    \n",
    "    swaps['volumes'] = swaps['x_bought'] + swaps['x_sold']\n",
    "    print(swaps[['volumes', 'x_bought', 'x_sold']].head())\n",
    "    \n",
    "\n",
    "   \n",
    "\n",
    "await async_chart_command(pool)\n"
   ]
  }
 ],
 "metadata": {
  "language_info": {
   "name": "python"
  },
  "orig_nbformat": 4
 },
 "nbformat": 4,
 "nbformat_minor": 2
}
